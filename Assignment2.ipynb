{
 "cells": [
  {
   "cell_type": "code",
   "execution_count": 3,
   "id": "e2fb2ea0",
   "metadata": {},
   "outputs": [
    {
     "name": "stdout",
     "output_type": "stream",
     "text": [
      "* \n",
      "* * \n",
      "* * * \n",
      "* * * * \n",
      "* * * * *  \n",
      "* * * *  \n",
      "* * *  \n",
      "* *  \n",
      "*  \n",
      " \n"
     ]
    }
   ],
   "source": [
    "rows = 5\n",
    "for j in range(1, rows):\n",
    "    print(\"* \" * j)\n",
    "rows = 5\n",
    "for i in range(rows + 1, 0, -1):\n",
    "    # nested reverse loop\n",
    "    for j in range(0, i - 1):\n",
    "        # display star\n",
    "        print(\"*\", end=' ')\n",
    "    print(\" \")"
   ]
  },
  {
   "cell_type": "code",
   "execution_count": 7,
   "id": "190ba120",
   "metadata": {},
   "outputs": [
    {
     "name": "stdout",
     "output_type": "stream",
     "text": [
      "20 40 60 80 100 "
     ]
    }
   ],
   "source": [
    "my_list = [10, 20, 30, 40, 50, 60, 70, 80, 90, 100]\n",
    "# stat from index 1 with step 2( means 1, 3, 5, an so on)\n",
    "for i in my_list[1::2]:\n",
    "    print(i, end=\" \")"
   ]
  },
  {
   "cell_type": "code",
   "execution_count": 21,
   "id": "d3679b1c",
   "metadata": {},
   "outputs": [
    {
     "name": "stdout",
     "output_type": "stream",
     "text": [
      "[23, 'Python', 23.98]\n",
      "[<class 'int'>, <class 'str'>, <class 'float'>]\n"
     ]
    }
   ],
   "source": [
    "# create list x\n",
    "x = [23, 'Python', 23.98]\n",
    "print(x)\n",
    "# create list class_list\n",
    "class_list =[]\n",
    "# iterate over the elements in x \n",
    "#and append the type of each element to a list\n",
    "for i in range(len(x)):\n",
    "    class_list.append(type(x[i]))\n",
    "#print the class_list\n",
    "print(class_list) "
   ]
  },
  {
   "cell_type": "code",
   "execution_count": 32,
   "id": "609027d1",
   "metadata": {},
   "outputs": [
    {
     "name": "stdout",
     "output_type": "stream",
     "text": [
      "sample_list: [1, 2, 3, 3, 3, 3, 4, 5]\n",
      "unique_list1: [1, 2, 3, 4, 5]\n"
     ]
    }
   ],
   "source": [
    "\n",
    "def unique(sample_list):\n",
    "    # initialize a null list\n",
    "    unique_list = []\n",
    "\n",
    "    # traverse for all elements\n",
    "    for x in sample_list:\n",
    "        # check if exists in unique_list or not\n",
    "         if x not in unique_list:\n",
    "            unique_list.append(x)\n",
    "\n",
    "sample_list= [1,2,3,3,3,3,4,5]\n",
    "# print sample_list\n",
    "print ('sample_list:',sample_list)\n",
    "# call the unique function with the above list\n",
    "unique(sample_list)\n",
    "# print unique list elements\n",
    "print ('unique_list:',unique_list)"
   ]
  },
  {
   "cell_type": "code",
   "execution_count": 48,
   "id": "6a62df7e",
   "metadata": {},
   "outputs": [
    {
     "name": "stdout",
     "output_type": "stream",
     "text": [
      "Input string:- The quick Brow Fox\n",
      "No. of Upper-case characters :  3\n",
      "No. of Lower-case characters :  12\n"
     ]
    }
   ],
   "source": [
    "def string_test(str):\n",
    "    # Create a dictionary for upper and lower case count\n",
    "    d={\"UPPER_CASE\":0, \"LOWER_CASE\":0}\n",
    "    # Iterate over the string and check whether upper or lower case\n",
    "    #Increment the count for corresponding\n",
    "    for c in str:\n",
    "        if c.isupper():\n",
    "           d[\"UPPER_CASE\"]+=1\n",
    "        elif c.islower():\n",
    "           d[\"LOWER_CASE\"]+=1\n",
    "        else:\n",
    "           pass\n",
    "    #print the upper and lower case count\n",
    "    print (\"No. of Upper-case characters : \", d[\"UPPER_CASE\"])\n",
    "    print (\"No. of Lower-case characters : \", d[\"LOWER_CASE\"])\n",
    " \n",
    "x=input(\"Input string:- \")\n",
    "string_test(x)"
   ]
  },
  {
   "cell_type": "code",
   "execution_count": null,
   "id": "a49a7331",
   "metadata": {},
   "outputs": [],
   "source": []
  },
  {
   "cell_type": "code",
   "execution_count": null,
   "id": "119367f8",
   "metadata": {},
   "outputs": [],
   "source": []
  }
 ],
 "metadata": {
  "kernelspec": {
   "display_name": "Python 3 (ipykernel)",
   "language": "python",
   "name": "python3"
  },
  "language_info": {
   "codemirror_mode": {
    "name": "ipython",
    "version": 3
   },
   "file_extension": ".py",
   "mimetype": "text/x-python",
   "name": "python",
   "nbconvert_exporter": "python",
   "pygments_lexer": "ipython3",
   "version": "3.9.13"
  }
 },
 "nbformat": 4,
 "nbformat_minor": 5
}
